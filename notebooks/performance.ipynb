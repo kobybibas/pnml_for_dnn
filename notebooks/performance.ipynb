{
 "cells": [
  {
   "cell_type": "code",
   "execution_count": 22,
   "metadata": {},
   "outputs": [],
   "source": [
    "import pandas as pd \n",
    "import wandb\n",
    "import matplotlib.pyplot as plt\n",
    "pd.set_option(\"display.max_columns\", None)\n",
    "pd.set_option(\"display.max_rows\", None)\n",
    "\n",
    "plt.style.use([\"science\", \"ieee\"])\n",
    "api = wandb.Api()\n",
    "\n",
    "\n",
    "# Project is specified by <entity/project-name>\n",
    "runs = api.runs(\"kobybibas/pnml_for_dnn\")"
   ]
  },
  {
   "cell_type": "code",
   "execution_count": 23,
   "metadata": {},
   "outputs": [],
   "source": [
    "summary_list, config_list, name_list = [], [], []\n",
    "for run in runs:\n",
    "    # .summary contains the output keys/values for metrics like accuracy.\n",
    "    #  We call ._json_dict to omit large files\n",
    "    summary_list.append(run.summary._json_dict)\n",
    "\n",
    "    # .config contains the hyperparameters.\n",
    "    #  We remove special values that start with _.\n",
    "    config_list.append({k: v for k, v in run.config.items() if not k.startswith(\"_\")})\n",
    "\n",
    "    # .name is the human-readable name of the run.\n",
    "    name_list.append(run.name)\n",
    "\n",
    "runs_df = pd.DataFrame(\n",
    "    {\"summary\": summary_list, \"config\": config_list, \"name\": name_list}\n",
    ")\n",
    "\n",
    "runs_df.to_csv(\"project.csv\")\n"
   ]
  },
  {
   "cell_type": "code",
   "execution_count": 24,
   "metadata": {},
   "outputs": [],
   "source": [
    "runs_df['prune_amount'] = runs_df['config'].apply(lambda d: d['prune_amount'] if 'prune_amount' in d else 0 )\n",
    "runs_df['acc_val'] = runs_df['summary'].apply(lambda d: d['acc/val'])\n",
    "runs_df['acc_test'] = runs_df['summary'].apply(lambda d: d['acc/test'] if 'acc/test' in d else None )\n"
   ]
  },
  {
   "cell_type": "code",
   "execution_count": 33,
   "metadata": {},
   "outputs": [
    {
     "data": {
      "text/html": [
       "<div>\n",
       "<style scoped>\n",
       "    .dataframe tbody tr th:only-of-type {\n",
       "        vertical-align: middle;\n",
       "    }\n",
       "\n",
       "    .dataframe tbody tr th {\n",
       "        vertical-align: top;\n",
       "    }\n",
       "\n",
       "    .dataframe thead th {\n",
       "        text-align: right;\n",
       "    }\n",
       "</style>\n",
       "<table border=\"1\" class=\"dataframe\">\n",
       "  <thead>\n",
       "    <tr style=\"text-align: right;\">\n",
       "      <th></th>\n",
       "      <th>summary</th>\n",
       "      <th>config</th>\n",
       "      <th>name</th>\n",
       "      <th>prune_amount</th>\n",
       "      <th>acc_val</th>\n",
       "      <th>acc_test</th>\n",
       "    </tr>\n",
       "  </thead>\n",
       "  <tbody>\n",
       "    <tr>\n",
       "      <th>23</th>\n",
       "      <td>{'_step': 150, 'loss/val': 0.12947937846183777...</td>\n",
       "      <td>{'train': {'lr': 0.1, 'epochs': 50, 'batch_siz...</td>\n",
       "      <td>train_erm_20220317_160603</td>\n",
       "      <td>0.00</td>\n",
       "      <td>0.964</td>\n",
       "      <td>0.9535</td>\n",
       "    </tr>\n",
       "    <tr>\n",
       "      <th>22</th>\n",
       "      <td>{'_step': 150, 'lr-SGD': 0.0010000000000000002...</td>\n",
       "      <td>{'train': {'lr': 0.1, 'epochs': 50, 'batch_siz...</td>\n",
       "      <td>prune_20220317_193208</td>\n",
       "      <td>0.10</td>\n",
       "      <td>0.970</td>\n",
       "      <td>0.9535</td>\n",
       "    </tr>\n",
       "    <tr>\n",
       "      <th>21</th>\n",
       "      <td>{'loss/test': 0.14781686663627625, '_timestamp...</td>\n",
       "      <td>{'train': {'lr': 0.1, 'epochs': 50, 'batch_siz...</td>\n",
       "      <td>prune_20220317_194007</td>\n",
       "      <td>0.15</td>\n",
       "      <td>0.971</td>\n",
       "      <td>0.9610</td>\n",
       "    </tr>\n",
       "    <tr>\n",
       "      <th>20</th>\n",
       "      <td>{'acc/val': 0.9639999866485596, 'loss/val': 0....</td>\n",
       "      <td>{'train': {'lr': 0.1, 'epochs': 50, 'batch_siz...</td>\n",
       "      <td>prune_20220317_194607</td>\n",
       "      <td>0.20</td>\n",
       "      <td>0.964</td>\n",
       "      <td>0.9610</td>\n",
       "    </tr>\n",
       "    <tr>\n",
       "      <th>18</th>\n",
       "      <td>{'loss/test': 0.16659915447235107, '_step': 15...</td>\n",
       "      <td>{'train': {'lr': 0.1, 'epochs': 50, 'batch_siz...</td>\n",
       "      <td>prune_20220317_195810</td>\n",
       "      <td>0.30</td>\n",
       "      <td>0.964</td>\n",
       "      <td>0.9570</td>\n",
       "    </tr>\n",
       "  </tbody>\n",
       "</table>\n",
       "</div>"
      ],
      "text/plain": [
       "                                              summary  \\\n",
       "23  {'_step': 150, 'loss/val': 0.12947937846183777...   \n",
       "22  {'_step': 150, 'lr-SGD': 0.0010000000000000002...   \n",
       "21  {'loss/test': 0.14781686663627625, '_timestamp...   \n",
       "20  {'acc/val': 0.9639999866485596, 'loss/val': 0....   \n",
       "18  {'loss/test': 0.16659915447235107, '_step': 15...   \n",
       "\n",
       "                                               config  \\\n",
       "23  {'train': {'lr': 0.1, 'epochs': 50, 'batch_siz...   \n",
       "22  {'train': {'lr': 0.1, 'epochs': 50, 'batch_siz...   \n",
       "21  {'train': {'lr': 0.1, 'epochs': 50, 'batch_siz...   \n",
       "20  {'train': {'lr': 0.1, 'epochs': 50, 'batch_siz...   \n",
       "18  {'train': {'lr': 0.1, 'epochs': 50, 'batch_siz...   \n",
       "\n",
       "                         name  prune_amount  acc_val  acc_test  \n",
       "23  train_erm_20220317_160603          0.00    0.964    0.9535  \n",
       "22      prune_20220317_193208          0.10    0.970    0.9535  \n",
       "21      prune_20220317_194007          0.15    0.971    0.9610  \n",
       "20      prune_20220317_194607          0.20    0.964    0.9610  \n",
       "18      prune_20220317_195810          0.30    0.964    0.9570  "
      ]
     },
     "execution_count": 33,
     "metadata": {},
     "output_type": "execute_result"
    }
   ],
   "source": [
    "runs_df = runs_df.sort_values(by='prune_amount')\n",
    "runs_df.head()"
   ]
  },
  {
   "cell_type": "code",
   "execution_count": 31,
   "metadata": {},
   "outputs": [
    {
     "data": {
      "image/png": "[encoded data removed]",
      "text/plain": [
       "<Figure size 600x600 with 1 Axes>"
      ]
     },
     "metadata": {
      "needs_background": "light"
     },
     "output_type": "display_data"
    }
   ],
   "source": [
    "fig,ax = plt.subplots(1,1,figsize=(3,3),dpi=200)\n",
    "runs_df.plot(x='prune_amount',y='acc_val' , xlabel='Prune amount', ylabel='Accuracy',marker='.',markersize=3,label='Validation',ax= ax)\n",
    "runs_df.plot(x='prune_amount',y='acc_test' , xlabel='Prune amount', ylabel='Accuracy',marker='x',markersize=3,label='Test',ax= ax)\n",
    "ax.set_ylim(0.6,1.0)\n",
    "plt.show()"
   ]
  },
  {
   "cell_type": "code",
   "execution_count": null,
   "metadata": {},
   "outputs": [],
   "source": []
  }
 ],
 "metadata": {
  "interpreter": {
   "hash": "0a84efc611e3f7050624abad31d14ffa386ef59166ea0a55ce1580313f7edd8a"
  },
  "kernelspec": {
   "display_name": "Python 3.9.7 64-bit ('pnml_with_luckiness': conda)",
   "language": "python",
   "name": "python3"
  },
  "language_info": {
   "codemirror_mode": {
    "name": "ipython",
    "version": 3
   },
   "file_extension": ".py",
   "mimetype": "text/x-python",
   "name": "python",
   "nbconvert_exporter": "python",
   "pygments_lexer": "ipython3",
   "version": "3.8.5"
  },
  "orig_nbformat": 4
 },
 "nbformat": 4,
 "nbformat_minor": 2
}
