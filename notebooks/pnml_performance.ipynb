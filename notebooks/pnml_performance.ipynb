{
 "cells": [
  {
   "cell_type": "code",
   "execution_count": 2,
   "metadata": {},
   "outputs": [],
   "source": [
    "import pandas as pd\n",
    "import wandb\n",
    "import matplotlib.pyplot as plt\n",
    "import numpy as np\n",
    "import os\n",
    "pd.set_option(\"display.max_columns\", None)\n",
    "pd.set_option(\"display.max_rows\", None)\n",
    "\n",
    "plt.style.use([\"science\", \"ieee\"])\n",
    "api = wandb.Api()\n",
    "out_dir = '../output/analysis'\n",
    "os.makedirs(out_dir,exist_ok=True)\n",
    "\n",
    "# Project is specified by <entity/project-name>\n",
    "runs = api.runs(\"kobybibas/pnml_for_dnn\")\n"
   ]
  },
  {
   "cell_type": "code",
   "execution_count": 3,
   "metadata": {},
   "outputs": [],
   "source": [
    "# prune 0.0\n",
    "run = api.run(\"kobybibas/pnml_for_dnn/2ynrwl9c\")\n",
    "run.file(\"res_df.pkl\").download(replace=True)\n",
    "prune_0_df = pd.read_pickle(\"res_df.pkl\")\n",
    "\n",
    "# prune 0.7\n",
    "run = api.run(\"kobybibas/pnml_for_dnn/1zbb5xj0\")\n",
    "run.file(\"res_df.pkl\").download(replace=True)\n",
    "prune_1_df = pd.read_pickle(\"res_df.pkl\")\n",
    "\n",
    "# prune 0.95\n",
    "run = api.run(\"kobybibas/pnml_for_dnn/mvp15tzb\")\n",
    "run.file(\"res_df.pkl\").download(replace=True)\n",
    "prune_2_df = pd.read_pickle(\"res_df.pkl\")\n",
    "\n",
    "df_dict = {\"0.0\": prune_0_df, \"0.75\": prune_1_df, \"0.95\": prune_2_df}\n"
   ]
  },
  {
   "cell_type": "code",
   "execution_count": 4,
   "metadata": {},
   "outputs": [
    {
     "data": {
      "text/plain": [
       "Index(['test_idx', 'pnml_nf', 'pnml_regret', 'pnml_logloss', 'pnml_is_correct',\n",
       "       'pnml_probs', 'genie_probs', 'erm_logloss', 'erm_is_correct',\n",
       "       'erm_probs', 'test_true_label'],\n",
       "      dtype='object')"
      ]
     },
     "execution_count": 4,
     "metadata": {},
     "output_type": "execute_result"
    }
   ],
   "source": [
    "prune_0_df.columns"
   ]
  },
  {
   "cell_type": "code",
   "execution_count": 23,
   "metadata": {},
   "outputs": [
    {
     "data": {
      "text/html": [
       "<div>\n",
       "<style scoped>\n",
       "    .dataframe tbody tr th:only-of-type {\n",
       "        vertical-align: middle;\n",
       "    }\n",
       "\n",
       "    .dataframe tbody tr th {\n",
       "        vertical-align: top;\n",
       "    }\n",
       "\n",
       "    .dataframe thead th {\n",
       "        text-align: right;\n",
       "    }\n",
       "</style>\n",
       "<table border=\"1\" class=\"dataframe\">\n",
       "  <thead>\n",
       "    <tr style=\"text-align: right;\">\n",
       "      <th></th>\n",
       "      <th>pNML accuracy (%)</th>\n",
       "      <th>ERM accuracy (%)</th>\n",
       "      <th>Regret</th>\n",
       "    </tr>\n",
       "    <tr>\n",
       "      <th>Prune amount</th>\n",
       "      <th></th>\n",
       "      <th></th>\n",
       "      <th></th>\n",
       "    </tr>\n",
       "  </thead>\n",
       "  <tbody>\n",
       "    <tr>\n",
       "      <th>0.0</th>\n",
       "      <td>85.45</td>\n",
       "      <td>95.87</td>\n",
       "      <td>69.20</td>\n",
       "    </tr>\n",
       "    <tr>\n",
       "      <th>0.75</th>\n",
       "      <td>87.54</td>\n",
       "      <td>95.96</td>\n",
       "      <td>68.83</td>\n",
       "    </tr>\n",
       "    <tr>\n",
       "      <th>0.95</th>\n",
       "      <td>92.83</td>\n",
       "      <td>95.44</td>\n",
       "      <td>66.96</td>\n",
       "    </tr>\n",
       "  </tbody>\n",
       "</table>\n",
       "</div>"
      ],
      "text/plain": [
       "              pNML accuracy (%)  ERM accuracy (%)  Regret\n",
       "Prune amount                                             \n",
       "0.0                       85.45             95.87   69.20\n",
       "0.75                      87.54             95.96   68.83\n",
       "0.95                      92.83             95.44   66.96"
      ]
     },
     "execution_count": 23,
     "metadata": {},
     "output_type": "execute_result"
    }
   ],
   "source": [
    "performance_list = []\n",
    "for prune_amount, df in df_dict.items():\n",
    "    pnml_acc = 100 * df[\"pnml_is_correct\"].mean()\n",
    "    erm_acc = 100 * df[\"erm_is_correct\"].mean()\n",
    "    pnml_logloss = df[\"pnml_logloss\"].mean()\n",
    "    erm_logloss = df[\"erm_logloss\"].mean()\n",
    "    regret = 100 * df[\"pnml_regret\"].mean()\n",
    "    performance_list.append({'Prune amount': prune_amount, 'pNML accuracy (%)': pnml_acc,'ERM accuracy (%)': erm_acc,\n",
    "    # 'pNML logloss': pnml_logloss, \n",
    "    # 'ERM logloss':erm_logloss,\n",
    "    'Regret':regret})\n",
    "\n",
    "pd.DataFrame(performance_list).round(2).set_index('Prune amount')\n"
   ]
  },
  {
   "cell_type": "code",
   "execution_count": 20,
   "metadata": {},
   "outputs": [
    {
     "data": {
      "image/png": "[encoded data removed]",
      "text/plain": [
       "<Figure size 660x500 with 3 Axes>"
      ]
     },
     "metadata": {
      "needs_background": "light"
     },
     "output_type": "display_data"
    }
   ],
   "source": [
    "regret_max = max([df[\"pnml_regret\"].max() for df in df_dict.values()])\n",
    "regret_min = min([df[\"pnml_regret\"].min() for df in df_dict.values()])\n",
    "\n",
    "bins = np.linspace(0.0, np.log(2), 100)\n",
    "\n",
    "fig, axs = plt.subplots(3, 1, dpi=200,sharex=True,sharey=True)\n",
    "\n",
    "for i, (prune_amount, df) in enumerate(df_dict.items()):\n",
    "    axs[i].hist(df[\"pnml_regret\"], bins=bins, label=f'Prune amount: {prune_amount}', alpha=0.5, density=True,color=f'C{i}')\n",
    "    axs[i].set_yscale('log')\n",
    "    axs[i].legend()\n",
    "    axs[i].set_ylabel('Frequency')\n",
    "axs[-1].set_xlabel('Regret')\n",
    "plt.tight_layout()\n",
    "plt.show()\n",
    "\n"
   ]
  },
  {
   "cell_type": "code",
   "execution_count": 24,
   "metadata": {},
   "outputs": [],
   "source": [
    "loss_max = max([df[\"pnml_logloss\"].max() for df in df_dict.values()])\n",
    "loss_min = min([df[\"pnml_logloss\"].min() for df in df_dict.values()])\n",
    "\n",
    "bins = np.linspace(loss_min,loss_max, 100)\n",
    "\n",
    "fig, axs = plt.subplots(3, 1, dpi=200,sharex=True,sharey=True)\n",
    "\n",
    "for i, (prune_amount, df) in enumerate(df_dict.items()):\n",
    "    axs[i].hist(df[\"pnml_logloss\"], bins=bins, label=f'Prune amount: {prune_amount}', alpha=0.5, density=True,color=f'C{i}')\n",
    "    axs[i].set_yscale('log')\n",
    "    axs[i].legend()\n",
    "    axs[i].set_ylabel('Frequency')\n",
    "axs[-1].set_xlabel('log-loss')\n",
    "plt.tight_layout()\n",
    "plt.show()\n"
   ]
  },
  {
   "cell_type": "code",
   "execution_count": null,
   "metadata": {},
   "outputs": [],
   "source": []
  }
 ],
 "metadata": {
  "interpreter": {
   "hash": "7d9c88672f83962d885c1f91e72b980f4561184b3d38dc404dbf2d884f79af74"
  },
  "kernelspec": {
   "display_name": "Python 3.8.5 ('pnml_for_dnn')",
   "language": "python",
   "name": "python3"
  },
  "language_info": {
   "codemirror_mode": {
    "name": "ipython",
    "version": 3
   },
   "file_extension": ".py",
   "mimetype": "text/x-python",
   "name": "python",
   "nbconvert_exporter": "python",
   "pygments_lexer": "ipython3",
   "version": "3.8.5"
  },
  "orig_nbformat": 4
 },
 "nbformat": 4,
 "nbformat_minor": 2
}
